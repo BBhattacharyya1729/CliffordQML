{
 "cells": [
  {
   "cell_type": "code",
   "execution_count": 1,
   "id": "8cbee523-c8a4-4d35-b387-9fb37c223b85",
   "metadata": {},
   "outputs": [
    {
     "name": "stderr",
     "output_type": "stream",
     "text": [
      "/opt/conda/lib/python3.10/site-packages/sklearn/datasets/_openml.py:1022: FutureWarning: The default value of `parser` will change from `'liac-arff'` to `'auto'` in 1.4. You can set `parser='auto'` to silence this warning. Therefore, an `ImportError` will be raised from 1.4 if the dataset is dense and pandas is not installed. Note that the pandas parser may return different data types. See the Notes Section in fetch_openml's API doc for details.\n",
      "  warn(\n"
     ]
    },
    {
     "data": {
      "text/plain": [
       "<matplotlib.image.AxesImage at 0x7f23b5bc3dc0>"
      ]
     },
     "execution_count": 1,
     "metadata": {},
     "output_type": "execute_result"
    },
    {
     "data": {
      "image/png": "[encoded data removed]",
      "text/plain": [
       "<Figure size 640x480 with 2 Axes>"
      ]
     },
     "metadata": {},
     "output_type": "display_data"
    }
   ],
   "source": [
    "from sklearn.datasets import fetch_openml\n",
    "import numpy as np\n",
    "import matplotlib.pyplot as plt\n",
    "%matplotlib inline\n",
    "# Load the MNIST data\n",
    "X, y = fetch_openml('Fashion-MNIST', version=1, return_X_y=True, as_frame=False)\n",
    " \n",
    "\n",
    "subsample_idc = np.random.choice(X.shape[0], 1000, replace=False)\n",
    "X = X[subsample_idc,:]\n",
    "y = y[subsample_idc]\n",
    " \n",
    "# Show two example images\n",
    "fig, ax = plt.subplots(1,2)\n",
    "ax[0].imshow(X[11,:].reshape(28,28), 'Greys')\n",
    "ax[1].imshow(X[15,:].reshape(28,28), 'Greys')"
   ]
  },
  {
   "cell_type": "code",
   "execution_count": 2,
   "id": "ec6b3493-7d1e-4cc1-b5fe-a1f3e21431cb",
   "metadata": {},
   "outputs": [],
   "source": [
    "from sklearn.manifold import TSNE\n",
    "import pandas as pd\n",
    "import seaborn as sns\n",
    " \n",
    "# We want to get TSNE embedding with 2 dimensions\n",
    "n_components = 3\n",
    "tsne = TSNE(n_components)\n",
    "tsne_result = tsne.fit_transform(X)\n",
    "tsne_result = tsne_result/np.abs(tsne_result).max()\n",
    "tsne_result = np.array([tsne_result[i] for i in range(len(tsne_result)) if y[i]=='0' or y[i]=='1'])\n",
    "y=np.array([v for v in y if v=='0' or v=='1'])\n",
    "tsne_result_df = pd.DataFrame({'tsne_1': tsne_result[:,0], 'tsne_2': tsne_result[:,1], 'tsne_3': tsne_result[:,2], 'label': y})\n"
   ]
  },
  {
   "cell_type": "code",
   "execution_count": 3,
   "id": "94cc1b78-87d6-4abe-a142-62374a9b6f7f",
   "metadata": {},
   "outputs": [
    {
     "data": {
      "text/html": [
       "<div>\n",
       "<style scoped>\n",
       "    .dataframe tbody tr th:only-of-type {\n",
       "        vertical-align: middle;\n",
       "    }\n",
       "\n",
       "    .dataframe tbody tr th {\n",
       "        vertical-align: top;\n",
       "    }\n",
       "\n",
       "    .dataframe thead th {\n",
       "        text-align: right;\n",
       "    }\n",
       "</style>\n",
       "<table border=\"1\" class=\"dataframe\">\n",
       "  <thead>\n",
       "    <tr style=\"text-align: right;\">\n",
       "      <th></th>\n",
       "      <th>tsne_1</th>\n",
       "      <th>tsne_2</th>\n",
       "      <th>tsne_3</th>\n",
       "      <th>label</th>\n",
       "    </tr>\n",
       "  </thead>\n",
       "  <tbody>\n",
       "    <tr>\n",
       "      <th>0</th>\n",
       "      <td>-0.238536</td>\n",
       "      <td>-0.790018</td>\n",
       "      <td>-0.061175</td>\n",
       "      <td>1</td>\n",
       "    </tr>\n",
       "    <tr>\n",
       "      <th>1</th>\n",
       "      <td>-0.064867</td>\n",
       "      <td>-0.770117</td>\n",
       "      <td>0.193083</td>\n",
       "      <td>1</td>\n",
       "    </tr>\n",
       "    <tr>\n",
       "      <th>2</th>\n",
       "      <td>0.245689</td>\n",
       "      <td>-0.126023</td>\n",
       "      <td>0.247300</td>\n",
       "      <td>0</td>\n",
       "    </tr>\n",
       "    <tr>\n",
       "      <th>3</th>\n",
       "      <td>-0.072062</td>\n",
       "      <td>-0.839834</td>\n",
       "      <td>0.198752</td>\n",
       "      <td>1</td>\n",
       "    </tr>\n",
       "    <tr>\n",
       "      <th>4</th>\n",
       "      <td>0.284930</td>\n",
       "      <td>-0.215836</td>\n",
       "      <td>0.192894</td>\n",
       "      <td>0</td>\n",
       "    </tr>\n",
       "    <tr>\n",
       "      <th>...</th>\n",
       "      <td>...</td>\n",
       "      <td>...</td>\n",
       "      <td>...</td>\n",
       "      <td>...</td>\n",
       "    </tr>\n",
       "    <tr>\n",
       "      <th>208</th>\n",
       "      <td>-0.262524</td>\n",
       "      <td>-0.552994</td>\n",
       "      <td>0.062283</td>\n",
       "      <td>1</td>\n",
       "    </tr>\n",
       "    <tr>\n",
       "      <th>209</th>\n",
       "      <td>0.277767</td>\n",
       "      <td>-0.509635</td>\n",
       "      <td>-0.136950</td>\n",
       "      <td>0</td>\n",
       "    </tr>\n",
       "    <tr>\n",
       "      <th>210</th>\n",
       "      <td>-0.130877</td>\n",
       "      <td>-0.604137</td>\n",
       "      <td>0.193967</td>\n",
       "      <td>1</td>\n",
       "    </tr>\n",
       "    <tr>\n",
       "      <th>211</th>\n",
       "      <td>-0.167911</td>\n",
       "      <td>-0.603494</td>\n",
       "      <td>-0.057641</td>\n",
       "      <td>1</td>\n",
       "    </tr>\n",
       "    <tr>\n",
       "      <th>212</th>\n",
       "      <td>0.270821</td>\n",
       "      <td>-0.548053</td>\n",
       "      <td>-0.279653</td>\n",
       "      <td>0</td>\n",
       "    </tr>\n",
       "  </tbody>\n",
       "</table>\n",
       "<p>213 rows × 4 columns</p>\n",
       "</div>"
      ],
      "text/plain": [
       "       tsne_1    tsne_2    tsne_3 label\n",
       "0   -0.238536 -0.790018 -0.061175     1\n",
       "1   -0.064867 -0.770117  0.193083     1\n",
       "2    0.245689 -0.126023  0.247300     0\n",
       "3   -0.072062 -0.839834  0.198752     1\n",
       "4    0.284930 -0.215836  0.192894     0\n",
       "..        ...       ...       ...   ...\n",
       "208 -0.262524 -0.552994  0.062283     1\n",
       "209  0.277767 -0.509635 -0.136950     0\n",
       "210 -0.130877 -0.604137  0.193967     1\n",
       "211 -0.167911 -0.603494 -0.057641     1\n",
       "212  0.270821 -0.548053 -0.279653     0\n",
       "\n",
       "[213 rows x 4 columns]"
      ]
     },
     "execution_count": 3,
     "metadata": {},
     "output_type": "execute_result"
    }
   ],
   "source": [
    "tsne_result_df"
   ]
  },
  {
   "cell_type": "code",
   "execution_count": null,
   "id": "91f8e155-7adb-4d5f-b4ea-677e6e632018",
   "metadata": {},
   "outputs": [],
   "source": []
  },
  {
   "cell_type": "code",
   "execution_count": 4,
   "id": "92e640b8-135a-4f49-8faf-3e16dbf7fe95",
   "metadata": {},
   "outputs": [],
   "source": [
    "\n",
    "d={'0':-1,'1':1}\n",
    "train_x, train_y  = tsne_result[:75],[d[i] for i in y[:75]]\n",
    "test_x, test_y  = tsne_result[75:150],[d[i] for i in y[75:150]]"
   ]
  },
  {
   "cell_type": "code",
   "execution_count": 5,
   "id": "9eeb40f2-8540-4a82-81a3-b93998b1bfc8",
   "metadata": {},
   "outputs": [],
   "source": [
    "import sys\n",
    "sys.path.append(\"../\")\n",
    "from BinaryCliffordClassifier import *\n",
    "from BinaryClassifier import *\n",
    "from qiskit.circuit import QuantumCircuit, ParameterVector\n",
    "from qiskit.quantum_info import Statevector"
   ]
  },
  {
   "cell_type": "code",
   "execution_count": 6,
   "id": "68c07a4e-453d-4fa7-ba6f-046f5f95e226",
   "metadata": {},
   "outputs": [
    {
     "data": {
      "image/png": "[encoded data removed]",
      "text/plain": [
       "<Figure size 454.719x284.278 with 1 Axes>"
      ]
     },
     "execution_count": 6,
     "metadata": {},
     "output_type": "execute_result"
    }
   ],
   "source": [
    "### Set up the encoder\n",
    "X=ParameterVector('x',3)\n",
    "encoder  = QuantumCircuit(3)\n",
    "encoder.h([0,1,2])\n",
    "encoder.rz(np.pi * X[0],0)\n",
    "encoder.rz(np.pi * X[1],1)\n",
    "encoder.rz(np.pi * X[2],2)\n",
    "encoder=encoder.compose(encoder)\n",
    "encoder.draw(output='mpl',fold=-1)"
   ]
  },
  {
   "cell_type": "code",
   "execution_count": 7,
   "id": "29d2bc99-80a4-421e-afac-9ec61e7e2406",
   "metadata": {},
   "outputs": [
    {
     "data": {
      "text/html": [
       "<pre style=\"word-wrap: normal;white-space: pre;background: #fff0;line-height: 1.1;font-family: &quot;Courier New&quot;,Courier,monospace\">     ┌──────────┐┌──────────┐          ┌───┐┌──────────┐ ┌──────────┐          »\n",
       "q_0: ┤ Ry(θ[0]) ├┤ Rz(θ[3]) ├──■───────┤ X ├┤ Ry(θ[6]) ├─┤ Rz(θ[9]) ├──■───────»\n",
       "     ├──────────┤├──────────┤┌─┴─┐     └─┬─┘├──────────┤┌┴──────────┤┌─┴─┐     »\n",
       "q_1: ┤ Ry(θ[1]) ├┤ Rz(θ[4]) ├┤ X ├──■────┼──┤ Ry(θ[7]) ├┤ Rz(θ[10]) ├┤ X ├──■──»\n",
       "     ├──────────┤├──────────┤└───┘┌─┴─┐  │  ├──────────┤├───────────┤└───┘┌─┴─┐»\n",
       "q_2: ┤ Ry(θ[2]) ├┤ Rz(θ[5]) ├─────┤ X ├──■──┤ Ry(θ[8]) ├┤ Rz(θ[11]) ├─────┤ X ├»\n",
       "     └──────────┘└──────────┘     └───┘     └──────────┘└───────────┘     └───┘»\n",
       "«     ┌───┐┌───────────┐┌───────────┐          ┌───┐┌───────────┐┌───────────┐»\n",
       "«q_0: ┤ X ├┤ Ry(θ[12]) ├┤ Rz(θ[15]) ├──■───────┤ X ├┤ Ry(θ[18]) ├┤ Rz(θ[21]) ├»\n",
       "«     └─┬─┘├───────────┤├───────────┤┌─┴─┐     └─┬─┘├───────────┤├───────────┤»\n",
       "«q_1: ──┼──┤ Ry(θ[13]) ├┤ Rz(θ[16]) ├┤ X ├──■────┼──┤ Ry(θ[19]) ├┤ Rz(θ[22]) ├»\n",
       "«       │  ├───────────┤├───────────┤└───┘┌─┴─┐  │  ├───────────┤├───────────┤»\n",
       "«q_2: ──■──┤ Ry(θ[14]) ├┤ Rz(θ[17]) ├─────┤ X ├──■──┤ Ry(θ[20]) ├┤ Rz(θ[23]) ├»\n",
       "«          └───────────┘└───────────┘     └───┘     └───────────┘└───────────┘»\n",
       "«               ┌───┐┌───────────┐┌───────────┐\n",
       "«q_0: ──■───────┤ X ├┤ Ry(θ[24]) ├┤ Rz(θ[27]) ├\n",
       "«     ┌─┴─┐     └─┬─┘├───────────┤├───────────┤\n",
       "«q_1: ┤ X ├──■────┼──┤ Ry(θ[25]) ├┤ Rz(θ[28]) ├\n",
       "«     └───┘┌─┴─┐  │  ├───────────┤├───────────┤\n",
       "«q_2: ─────┤ X ├──■──┤ Ry(θ[26]) ├┤ Rz(θ[29]) ├\n",
       "«          └───┘     └───────────┘└───────────┘</pre>"
      ],
      "text/plain": [
       "     ┌──────────┐┌──────────┐          ┌───┐┌──────────┐ ┌──────────┐          »\n",
       "q_0: ┤ Ry(θ[0]) ├┤ Rz(θ[3]) ├──■───────┤ X ├┤ Ry(θ[6]) ├─┤ Rz(θ[9]) ├──■───────»\n",
       "     ├──────────┤├──────────┤┌─┴─┐     └─┬─┘├──────────┤┌┴──────────┤┌─┴─┐     »\n",
       "q_1: ┤ Ry(θ[1]) ├┤ Rz(θ[4]) ├┤ X ├──■────┼──┤ Ry(θ[7]) ├┤ Rz(θ[10]) ├┤ X ├──■──»\n",
       "     ├──────────┤├──────────┤└───┘┌─┴─┐  │  ├──────────┤├───────────┤└───┘┌─┴─┐»\n",
       "q_2: ┤ Ry(θ[2]) ├┤ Rz(θ[5]) ├─────┤ X ├──■──┤ Ry(θ[8]) ├┤ Rz(θ[11]) ├─────┤ X ├»\n",
       "     └──────────┘└──────────┘     └───┘     └──────────┘└───────────┘     └───┘»\n",
       "«     ┌───┐┌───────────┐┌───────────┐          ┌───┐┌───────────┐┌───────────┐»\n",
       "«q_0: ┤ X ├┤ Ry(θ[12]) ├┤ Rz(θ[15]) ├──■───────┤ X ├┤ Ry(θ[18]) ├┤ Rz(θ[21]) ├»\n",
       "«     └─┬─┘├───────────┤├───────────┤┌─┴─┐     └─┬─┘├───────────┤├───────────┤»\n",
       "«q_1: ──┼──┤ Ry(θ[13]) ├┤ Rz(θ[16]) ├┤ X ├──■────┼──┤ Ry(θ[19]) ├┤ Rz(θ[22]) ├»\n",
       "«       │  ├───────────┤├───────────┤└───┘┌─┴─┐  │  ├───────────┤├───────────┤»\n",
       "«q_2: ──■──┤ Ry(θ[14]) ├┤ Rz(θ[17]) ├─────┤ X ├──■──┤ Ry(θ[20]) ├┤ Rz(θ[23]) ├»\n",
       "«          └───────────┘└───────────┘     └───┘     └───────────┘└───────────┘»\n",
       "«               ┌───┐┌───────────┐┌───────────┐\n",
       "«q_0: ──■───────┤ X ├┤ Ry(θ[24]) ├┤ Rz(θ[27]) ├\n",
       "«     ┌─┴─┐     └─┬─┘├───────────┤├───────────┤\n",
       "«q_1: ┤ X ├──■────┼──┤ Ry(θ[25]) ├┤ Rz(θ[28]) ├\n",
       "«     └───┘┌─┴─┐  │  ├───────────┤├───────────┤\n",
       "«q_2: ─────┤ X ├──■──┤ Ry(θ[26]) ├┤ Rz(θ[29]) ├\n",
       "«          └───┘     └───────────┘└───────────┘"
      ]
     },
     "execution_count": 7,
     "metadata": {},
     "output_type": "execute_result"
    }
   ],
   "source": [
    "def getClassifier(layers=3):\n",
    "    Classifier=QuantumCircuit(3)\n",
    "    Theta = ParameterVector('θ', 6 * layers)\n",
    "    for i in range(layers):\n",
    "        Classifier.ry(Theta[6*i],0)\n",
    "        Classifier.ry(Theta[6*i+1],1)\n",
    "        Classifier.ry(Theta[6*i+2],2)\n",
    "        Classifier.rz(Theta[6*i+3],0)\n",
    "        Classifier.rz(Theta[6*i+4],1)\n",
    "        Classifier.rz(Theta[6*i+5],2)\n",
    "        if(i<layers-1):\n",
    "            Classifier.cx(0,1)\n",
    "            Classifier.cx(1,2)\n",
    "            Classifier.cx(2,0)\n",
    "    return Classifier\n",
    "classifier = getClassifier(5)\n",
    "classifier.draw()"
   ]
  },
  {
   "cell_type": "code",
   "execution_count": 8,
   "id": "0c76fd2f-a9a7-448a-af91-01df719c5f4d",
   "metadata": {},
   "outputs": [],
   "source": [
    "val,params = VQC_optimize(train_x=train_x,train_y=train_y,classifier=classifier,encoder=encoder,iterations=100,save_dir=\"Log\",name='FashionMNIST')\n",
    "theta = np.array(params)*np.pi/2\n"
   ]
  },
  {
   "cell_type": "code",
   "execution_count": 9,
   "id": "781b9e40-1401-48ca-8a9a-f8a85038a290",
   "metadata": {},
   "outputs": [
    {
     "data": {
      "text/plain": [
       "(0.9066666666666666, 0.8666666666666667)"
      ]
     },
     "execution_count": 9,
     "metadata": {},
     "output_type": "execute_result"
    }
   ],
   "source": [
    "accuracy(classifier,encoder,theta,train_x,test_x,train_y,test_y)"
   ]
  },
  {
   "cell_type": "code",
   "execution_count": 10,
   "id": "e4435c88-a367-42b1-a1f2-34cfac2d81cd",
   "metadata": {},
   "outputs": [
    {
     "data": {
      "text/plain": [
       "(13.354083709367846, 48.104908154793776)"
      ]
     },
     "execution_count": 10,
     "metadata": {},
     "output_type": "execute_result"
    }
   ],
   "source": [
    "exactLosses(classifier,encoder,theta,train_x,test_x,train_y,test_y)"
   ]
  }
 ],
 "metadata": {
  "environment": {
   "kernel": "python3",
   "name": "tf2-cpu.2-11.m112",
   "type": "gcloud",
   "uri": "gcr.io/deeplearning-platform-release/tf2-cpu.2-11:m112"
  },
  "kernelspec": {
   "display_name": "Python 3",
   "language": "python",
   "name": "python3"
  },
  "language_info": {
   "codemirror_mode": {
    "name": "ipython",
    "version": 3
   },
   "file_extension": ".py",
   "mimetype": "text/x-python",
   "name": "python",
   "nbconvert_exporter": "python",
   "pygments_lexer": "ipython3",
   "version": "3.10.12"
  }
 },
 "nbformat": 4,
 "nbformat_minor": 5
}
