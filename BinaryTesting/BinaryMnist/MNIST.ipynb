{
 "cells": [
  {
   "cell_type": "code",
   "execution_count": 1,
   "id": "911e71e5-6371-4d5f-bb77-cdd3e24d3aea",
   "metadata": {},
   "outputs": [
    {
     "name": "stderr",
     "output_type": "stream",
     "text": [
      "/opt/conda/lib/python3.10/site-packages/sklearn/datasets/_openml.py:1022: FutureWarning: The default value of `parser` will change from `'liac-arff'` to `'auto'` in 1.4. You can set `parser='auto'` to silence this warning. Therefore, an `ImportError` will be raised from 1.4 if the dataset is dense and pandas is not installed. Note that the pandas parser may return different data types. See the Notes Section in fetch_openml's API doc for details.\n",
      "  warn(\n"
     ]
    },
    {
     "data": {
      "text/plain": [
       "<matplotlib.image.AxesImage at 0x7fa8b8e5f3d0>"
      ]
     },
     "execution_count": 1,
     "metadata": {},
     "output_type": "execute_result"
    },
    {
     "data": {
      "image/png": "[encoded data removed]",
      "text/plain": [
       "<Figure size 640x480 with 2 Axes>"
      ]
     },
     "metadata": {},
     "output_type": "display_data"
    }
   ],
   "source": [
    "from sklearn.datasets import fetch_openml\n",
    "import numpy as np\n",
    "import matplotlib.pyplot as plt\n",
    "%matplotlib inline\n",
    "# Load the MNIST data\n",
    "X, y = fetch_openml('mnist_784', version=1, return_X_y=True, as_frame=False)\n",
    "\n",
    "\n",
    "subsample_idc = np.random.choice(X.shape[0], 1000, replace=False)\n",
    "X = X[subsample_idc,:]\n",
    "y = y[subsample_idc]\n",
    "\n",
    "X = np.array([x for i,x in enumerate(X) if y[i]=='0' or y[i]=='1'])\n",
    "\n",
    "y = np.array([i for i in y if i=='0' or i=='1'])\n",
    "\n",
    "# Show two example images\n",
    "fig, ax = plt.subplots(1,2)\n",
    "ax[0].imshow(X[0].reshape(28,28), 'Greys')\n",
    "ax[1].imshow(X[1].reshape(28,28), 'Greys')"
   ]
  },
  {
   "cell_type": "code",
   "execution_count": 2,
   "id": "8210720b-fe08-4692-9cf8-46b7a2a1ca40",
   "metadata": {},
   "outputs": [],
   "source": [
    "from sklearn.manifold import TSNE\n",
    "import pandas as pd\n",
    "import seaborn as sns\n",
    " \n",
    "# We want to get TSNE embedding with 2 dimensions\n",
    "n_components = 2\n",
    "tsne = TSNE(n_components)\n",
    "tsne_result = tsne.fit_transform(X)\n",
    "tsne_result = tsne_result/np.abs(tsne_result).max()\n",
    "tsne_result_df = pd.DataFrame({'tsne_1': tsne_result[:,0], 'tsne_2': tsne_result[:,1], 'label': y})\n"
   ]
  },
  {
   "cell_type": "code",
   "execution_count": 3,
   "id": "fd2e8647-5b07-4ce9-ad68-8174c8ee2443",
   "metadata": {},
   "outputs": [
    {
     "data": {
      "text/html": [
       "<div>\n",
       "<style scoped>\n",
       "    .dataframe tbody tr th:only-of-type {\n",
       "        vertical-align: middle;\n",
       "    }\n",
       "\n",
       "    .dataframe tbody tr th {\n",
       "        vertical-align: top;\n",
       "    }\n",
       "\n",
       "    .dataframe thead th {\n",
       "        text-align: right;\n",
       "    }\n",
       "</style>\n",
       "<table border=\"1\" class=\"dataframe\">\n",
       "  <thead>\n",
       "    <tr style=\"text-align: right;\">\n",
       "      <th></th>\n",
       "      <th>tsne_1</th>\n",
       "      <th>tsne_2</th>\n",
       "      <th>label</th>\n",
       "    </tr>\n",
       "  </thead>\n",
       "  <tbody>\n",
       "    <tr>\n",
       "      <th>0</th>\n",
       "      <td>-0.133796</td>\n",
       "      <td>0.366770</td>\n",
       "      <td>1</td>\n",
       "    </tr>\n",
       "    <tr>\n",
       "      <th>1</th>\n",
       "      <td>-0.528795</td>\n",
       "      <td>0.084827</td>\n",
       "      <td>1</td>\n",
       "    </tr>\n",
       "    <tr>\n",
       "      <th>2</th>\n",
       "      <td>-0.557730</td>\n",
       "      <td>0.171335</td>\n",
       "      <td>1</td>\n",
       "    </tr>\n",
       "    <tr>\n",
       "      <th>3</th>\n",
       "      <td>0.458954</td>\n",
       "      <td>-0.232064</td>\n",
       "      <td>0</td>\n",
       "    </tr>\n",
       "    <tr>\n",
       "      <th>4</th>\n",
       "      <td>-0.760839</td>\n",
       "      <td>0.000018</td>\n",
       "      <td>1</td>\n",
       "    </tr>\n",
       "    <tr>\n",
       "      <th>...</th>\n",
       "      <td>...</td>\n",
       "      <td>...</td>\n",
       "      <td>...</td>\n",
       "    </tr>\n",
       "    <tr>\n",
       "      <th>220</th>\n",
       "      <td>-0.226206</td>\n",
       "      <td>0.483349</td>\n",
       "      <td>1</td>\n",
       "    </tr>\n",
       "    <tr>\n",
       "      <th>221</th>\n",
       "      <td>0.476667</td>\n",
       "      <td>-0.269535</td>\n",
       "      <td>0</td>\n",
       "    </tr>\n",
       "    <tr>\n",
       "      <th>222</th>\n",
       "      <td>-0.366732</td>\n",
       "      <td>0.462271</td>\n",
       "      <td>1</td>\n",
       "    </tr>\n",
       "    <tr>\n",
       "      <th>223</th>\n",
       "      <td>-0.775691</td>\n",
       "      <td>-0.068613</td>\n",
       "      <td>1</td>\n",
       "    </tr>\n",
       "    <tr>\n",
       "      <th>224</th>\n",
       "      <td>0.742058</td>\n",
       "      <td>-0.361071</td>\n",
       "      <td>0</td>\n",
       "    </tr>\n",
       "  </tbody>\n",
       "</table>\n",
       "<p>225 rows × 3 columns</p>\n",
       "</div>"
      ],
      "text/plain": [
       "       tsne_1    tsne_2 label\n",
       "0   -0.133796  0.366770     1\n",
       "1   -0.528795  0.084827     1\n",
       "2   -0.557730  0.171335     1\n",
       "3    0.458954 -0.232064     0\n",
       "4   -0.760839  0.000018     1\n",
       "..        ...       ...   ...\n",
       "220 -0.226206  0.483349     1\n",
       "221  0.476667 -0.269535     0\n",
       "222 -0.366732  0.462271     1\n",
       "223 -0.775691 -0.068613     1\n",
       "224  0.742058 -0.361071     0\n",
       "\n",
       "[225 rows x 3 columns]"
      ]
     },
     "execution_count": 3,
     "metadata": {},
     "output_type": "execute_result"
    }
   ],
   "source": [
    "tsne_result_df"
   ]
  },
  {
   "cell_type": "code",
   "execution_count": 4,
   "id": "d7fc8506-4c8d-47c5-b9dc-ef8080a0b101",
   "metadata": {},
   "outputs": [
    {
     "name": "stdout",
     "output_type": "stream",
     "text": [
      "46\n",
      "52\n"
     ]
    }
   ],
   "source": [
    "\n",
    "d={'0':-1,'1':1}\n",
    "train_x, train_y  = tsne_result[:100],[d[i] for i in y[:100]]\n",
    "test_x, test_y  = tsne_result[100:200],[d[i] for i in y[100:200]]\n",
    "print(train_y.count(-1))\n",
    "print(test_y.count(-1))"
   ]
  },
  {
   "cell_type": "code",
   "execution_count": 5,
   "id": "19c5319b-6a86-43a7-9124-96351b49b825",
   "metadata": {},
   "outputs": [],
   "source": [
    "import sys\n",
    "sys.path.append(\"../\")\n",
    "from BinaryCliffordClassifier import *\n",
    "from BinaryClassifier import *\n",
    "from qiskit.circuit import QuantumCircuit, ParameterVector\n",
    "from qiskit.quantum_info import Statevector"
   ]
  },
  {
   "cell_type": "code",
   "execution_count": 6,
   "id": "98b04197-f8d3-4816-9125-1393a331d252",
   "metadata": {},
   "outputs": [
    {
     "data": {
      "image/png": "[encoded data removed]",
      "text/plain": [
       "<Figure size 203.683x200.667 with 1 Axes>"
      ]
     },
     "execution_count": 6,
     "metadata": {},
     "output_type": "execute_result"
    }
   ],
   "source": [
    "### Set up the encoder\n",
    "X=ParameterVector('x',2)\n",
    "encoder=QuantumCircuit(2)\n",
    "encoder.ry(np.pi * X[0],0)\n",
    "encoder.ry(np.pi * X[1],1)\n",
    "encoder.draw(output='mpl',fold=-1)"
   ]
  },
  {
   "cell_type": "code",
   "execution_count": 7,
   "id": "74abddab-b0ae-4cfb-8a35-78ee86eabd85",
   "metadata": {},
   "outputs": [],
   "source": [
    "def getClassifier(layers=3):\n",
    "    Classifier=QuantumCircuit(2)\n",
    "    Theta = ParameterVector('θ', 4 * layers)\n",
    "    for i in range(layers):\n",
    "        Classifier.ry(Theta[4*i],0)\n",
    "        Classifier.ry(Theta[4*i+1],1)\n",
    "        Classifier.rz(Theta[4*i+2],0)\n",
    "        Classifier.rz(Theta[4*i+3],1)\n",
    "        if(i<layers-1):\n",
    "            Classifier.cx(0,1)\n",
    "    return Classifier\n",
    "classifier = getClassifier(5)"
   ]
  },
  {
   "cell_type": "code",
   "execution_count": 8,
   "id": "b5c319d1-273d-4dc0-9aa6-c7ef6541cd68",
   "metadata": {},
   "outputs": [],
   "source": [
    "val,params = VQC_optimize(train_x=train_x,train_y=train_y,classifier=classifier,encoder=encoder,iterations=50,save_dir=\"Log\",name='BinMNIST')\n",
    "theta = np.array(params)*np.pi/2\n"
   ]
  },
  {
   "cell_type": "code",
   "execution_count": 9,
   "id": "83cc2a24-f0ab-4a1a-8a41-3335ff5220b9",
   "metadata": {},
   "outputs": [
    {
     "data": {
      "text/plain": [
       "(1.0, 0.99)"
      ]
     },
     "execution_count": 9,
     "metadata": {},
     "output_type": "execute_result"
    }
   ],
   "source": [
    "accuracy(classifier,encoder,theta,train_x,test_x,train_y,test_y)"
   ]
  }
 ],
 "metadata": {
  "environment": {
   "kernel": "python3",
   "name": "tf2-cpu.2-11.m112",
   "type": "gcloud",
   "uri": "gcr.io/deeplearning-platform-release/tf2-cpu.2-11:m112"
  },
  "kernelspec": {
   "display_name": "Python 3",
   "language": "python",
   "name": "python3"
  },
  "language_info": {
   "codemirror_mode": {
    "name": "ipython",
    "version": 3
   },
   "file_extension": ".py",
   "mimetype": "text/x-python",
   "name": "python",
   "nbconvert_exporter": "python",
   "pygments_lexer": "ipython3",
   "version": "3.10.12"
  }
 },
 "nbformat": 4,
 "nbformat_minor": 5
}
