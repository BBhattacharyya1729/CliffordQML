{
 "cells": [
  {
   "cell_type": "code",
   "execution_count": 1,
   "id": "fddea289-c239-41c5-ba80-bd4f39a1bea3",
   "metadata": {},
   "outputs": [],
   "source": [
    "import sys\n",
    "sys.path.append(\"../\")\n",
    "from BinaryCliffordClassifier import *\n",
    "from BinaryClassifier import *\n",
    "from qiskit.circuit import QuantumCircuit, ParameterVector\n",
    "from qiskit.quantum_info import Statevector\n",
    "import numpy as np\n",
    "import matplotlib.pyplot as plt\n",
    "%matplotlib inline"
   ]
  },
  {
   "cell_type": "code",
   "execution_count": 2,
   "id": "184bfdaa-40ee-4468-a7a8-e9826ff93d64",
   "metadata": {},
   "outputs": [
    {
     "data": {
      "image/png": "[encoded data removed]",
      "text/plain": [
       "<Figure size 454.719x367.889 with 1 Axes>"
      ]
     },
     "execution_count": 2,
     "metadata": {},
     "output_type": "execute_result"
    }
   ],
   "source": [
    "### Set up the encoder\n",
    "X=ParameterVector('x',4)\n",
    "encoder  = QuantumCircuit(4)\n",
    "encoder.h([0,1,2,3])\n",
    "encoder.rz(np.pi * X[0],0)\n",
    "encoder.rz(np.pi * X[1],1)\n",
    "encoder.rz(np.pi * X[2],2)\n",
    "encoder.rz(np.pi * X[3],3)\n",
    "encoder=encoder.compose(encoder)\n",
    "encoder.draw(output='mpl',fold=-1)"
   ]
  },
  {
   "cell_type": "code",
   "execution_count": 3,
   "id": "6b245b00-9db9-4674-8200-102ff9b11fbb",
   "metadata": {},
   "outputs": [],
   "source": [
    "from scipy.linalg import qr\n",
    "from qiskit.quantum_info import Operator, SparsePauliOp\n",
    "##Generate an n-point Test set and an n-point Training set\n",
    "def generateData(delta,n):\n",
    "    \n",
    "    #random 16x16 Unitary \n",
    "    H = (np.random.randn(16, 16)+1j*np.random.randn(16, 16))/np.sqrt(2)\n",
    "    Q, R = qr(H)\n",
    "    R = np.diag(np.diag(R)/abs(np.diag(R)))\n",
    "    U=Q.dot(R)\n",
    "    V=Operator(U)\n",
    "    \n",
    "    #Pairity Function\n",
    "    f = SparsePauliOp('ZZZZ').to_matrix()\n",
    "    \n",
    "    \n",
    "    #Populate the data sets\n",
    "    train_x = []\n",
    "    train_y = []\n",
    "    test_x = []\n",
    "    test_y = []\n",
    "    \n",
    "    while(len(train_x) < n or len(test_x )< n):\n",
    "        \n",
    "        x  = 2*np.random.random(4)-1 \n",
    "        temp_qc = encoder.assign_parameters(x)\n",
    "        val = Statevector(temp_qc).expectation_value(V.adjoint()@f@V).real\n",
    "        if(val<-delta and len(train_x) < n and train_y.count(-1)< n//2):\n",
    "            train_x.append(x)\n",
    "            train_y.append(-1)\n",
    "        elif(val>delta and len(train_x) < n and train_y.count(1)< n//2):\n",
    "            train_x.append(x)\n",
    "            train_y.append(1)\n",
    "        \n",
    "        x  = 2*np.random.random(4)-1\n",
    "        temp_qc = encoder.assign_parameters(x)\n",
    "        val = Statevector(temp_qc).expectation_value(V.adjoint()@f@V).real\n",
    "        if(val<-delta and len(test_x )< n and test_y.count(-1)< n//2):\n",
    "            test_x.append(x)\n",
    "            test_y.append(-1)\n",
    "        elif(val>delta and len(test_x )< n and test_y.count(1)< n//2):\n",
    "            test_x.append(x)\n",
    "            test_y.append(1)\n",
    "    return test_x,test_y, train_x,train_y, V"
   ]
  },
  {
   "cell_type": "code",
   "execution_count": 4,
   "id": "d78a6f1c-59f6-4165-8d0e-61c4d2ce88a4",
   "metadata": {},
   "outputs": [
    {
     "name": "stdout",
     "output_type": "stream",
     "text": [
      "Training Data:\n",
      "Plus: 50\n",
      "Minus: 50\n",
      "------------\n",
      "Test Data:\n",
      "Plus: 50\n",
      "Minus: 50\n"
     ]
    }
   ],
   "source": [
    "### Generate the dataset\n",
    "test_x,test_y,train_x,train_y,V = generateData(0.3,100)\n",
    "\n",
    "print(\"Training Data:\")\n",
    "print(\"Plus: \"+str(len([i for i in train_y if i==1])))\n",
    "print(\"Minus: \"+str(len([i for i in train_y if i==-1])))\n",
    "print(\"------------\")\n",
    "print(\"Test Data:\")\n",
    "print(\"Plus: \"+str(len([i for i in test_y if i==1])))\n",
    "print(\"Minus: \"+str(len([i for i in test_y if i==-1])))\n"
   ]
  },
  {
   "cell_type": "code",
   "execution_count": 5,
   "id": "1b77e87a-df8e-46c9-9256-286631594fea",
   "metadata": {},
   "outputs": [],
   "source": [
    "def getClassifier(layers=3):\n",
    "    Classifier=QuantumCircuit(4)\n",
    "    Theta = ParameterVector('θ', 8 * layers)\n",
    "    for i in range(layers):\n",
    "        Classifier.ry(Theta[8*i],0)\n",
    "        Classifier.ry(Theta[8*i+1],1)\n",
    "        Classifier.ry(Theta[8*i+2],2)\n",
    "        Classifier.ry(Theta[8*i+3],3)\n",
    "        Classifier.rz(Theta[8*i+4],0)\n",
    "        Classifier.rz(Theta[8*i+5],1)\n",
    "        Classifier.rz(Theta[8*i+6],2)\n",
    "        Classifier.rz(Theta[8*i+7],3)\n",
    "        if(i<layers-1):\n",
    "            Classifier.cx(0,1)\n",
    "            Classifier.cx(1,2)\n",
    "            Classifier.cx(2,3)\n",
    "            Classifier.cx(3,0)\n",
    "    return Classifier\n",
    "classifier = getClassifier(5)\n"
   ]
  },
  {
   "cell_type": "code",
   "execution_count": 6,
   "id": "f80e554c-0b08-4b4f-8c0d-58f42af9967d",
   "metadata": {},
   "outputs": [],
   "source": [
    "val,params = VQC_optimize(train_x=train_x,train_y=train_y,classifier=classifier,encoder=encoder,iterations=100,save_dir=\"Log\",name='KernelD')\n",
    "theta = np.array(params)*np.pi/2"
   ]
  },
  {
   "cell_type": "code",
   "execution_count": 7,
   "id": "4e2a9a0d-576a-46dd-8548-e825e39b7378",
   "metadata": {},
   "outputs": [
    {
     "data": {
      "text/plain": [
       "(0.94, 0.92)"
      ]
     },
     "execution_count": 7,
     "metadata": {},
     "output_type": "execute_result"
    }
   ],
   "source": [
    "accuracy(classifier,encoder,theta,train_x,test_x,train_y,test_y)"
   ]
  }
 ],
 "metadata": {
  "environment": {
   "kernel": "python3",
   "name": "tf2-cpu.2-11.m112",
   "type": "gcloud",
   "uri": "gcr.io/deeplearning-platform-release/tf2-cpu.2-11:m112"
  },
  "kernelspec": {
   "display_name": "Python 3",
   "language": "python",
   "name": "python3"
  },
  "language_info": {
   "codemirror_mode": {
    "name": "ipython",
    "version": 3
   },
   "file_extension": ".py",
   "mimetype": "text/x-python",
   "name": "python",
   "nbconvert_exporter": "python",
   "pygments_lexer": "ipython3",
   "version": "3.10.12"
  }
 },
 "nbformat": 4,
 "nbformat_minor": 5
}
